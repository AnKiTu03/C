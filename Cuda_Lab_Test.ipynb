{
  "nbformat": 4,
  "nbformat_minor": 0,
  "metadata": {
    "colab": {
      "provenance": [],
      "gpuType": "T4",
      "include_colab_link": true
    },
    "kernelspec": {
      "name": "python3",
      "display_name": "Python 3"
    },
    "language_info": {
      "name": "python"
    },
    "accelerator": "GPU"
  },
  "cells": [
    {
      "cell_type": "markdown",
      "metadata": {
        "id": "view-in-github",
        "colab_type": "text"
      },
      "source": [
        "<a href=\"https://colab.research.google.com/github/AnKiTu03/C/blob/main/Cuda_Lab_Test.ipynb\" target=\"_parent\"><img src=\"https://colab.research.google.com/assets/colab-badge.svg\" alt=\"Open In Colab\"/></a>"
      ]
    },
    {
      "cell_type": "markdown",
      "source": [
        "### ***Section - A***"
      ],
      "metadata": {
        "id": "ImT5s5miHPaj"
      }
    },
    {
      "cell_type": "markdown",
      "source": [
        "### 1\n",
        "\n",
        "Write an OpenMP program to calculate the value of PI using the critical section."
      ],
      "metadata": {
        "id": "1mRlNxNuHYRB"
      }
    },
    {
      "cell_type": "code",
      "source": [
        "%%writefile q1.c\n",
        "#include <stdio.h>\n",
        "#include <omp.h>\n",
        "\n",
        "int main() {\n",
        "    long num_steps = 1000000;\n",
        "    double step = 1.0 / num_steps, pi = 0.0;\n",
        "\n",
        "    #pragma omp parallel\n",
        "    {\n",
        "        double sum = 0.0;\n",
        "        #pragma omp for\n",
        "        for (long i = 0; i < num_steps; i++)\n",
        "            sum += 4.0 / (1.0 + ((i + 0.5) * step) * ((i + 0.5) * step));\n",
        "\n",
        "        #pragma omp critical\n",
        "        pi += sum * step;\n",
        "    }\n",
        "\n",
        "    printf(\"PI: %.15f\\n\", pi);\n",
        "    return 0;\n",
        "}"
      ],
      "metadata": {
        "id": "QreyJYrDHaB-",
        "colab": {
          "base_uri": "https://localhost:8080/"
        },
        "outputId": "e01d9c12-8392-43d2-fdc8-bf4f44889b60"
      },
      "execution_count": null,
      "outputs": [
        {
          "output_type": "stream",
          "name": "stdout",
          "text": [
            "Writing q1.c\n"
          ]
        }
      ]
    },
    {
      "cell_type": "code",
      "source": [
        "!gcc -fopenmp q1.c -o q1\n",
        "!./q1"
      ],
      "metadata": {
        "colab": {
          "base_uri": "https://localhost:8080/"
        },
        "id": "GmBMkEafsS7X",
        "outputId": "507ceb65-176c-478c-a385-1d1e49e85e84"
      },
      "execution_count": null,
      "outputs": [
        {
          "output_type": "stream",
          "name": "stdout",
          "text": [
            "PI: 3.141592653589899\n"
          ]
        }
      ]
    },
    {
      "cell_type": "markdown",
      "source": [
        "### 2\n",
        "\n",
        "Write an OpenMP program to print parallel programming\n",
        "environment information."
      ],
      "metadata": {
        "id": "OdJU2QRxHh87"
      }
    },
    {
      "cell_type": "code",
      "source": [
        "%%writefile q2.c\n",
        "#include <stdio.h>\n",
        "#include <omp.h>\n",
        "\n",
        "int main() {\n",
        "    #pragma omp parallel\n",
        "    {\n",
        "        int thread_id = omp_get_thread_num();\n",
        "        int total_threads = omp_get_num_threads();\n",
        "        int max_threads = omp_get_max_threads();\n",
        "        int num_procs = omp_get_num_procs();\n",
        "        int in_parallel = omp_in_parallel();\n",
        "\n",
        "        #pragma omp critical\n",
        "        {\n",
        "            printf(\"Thread ID: %d\\n\", thread_id);\n",
        "            printf(\"Total Threads: %d\\n\", total_threads);\n",
        "            printf(\"Max Threads: %d\\n\", max_threads);\n",
        "            printf(\"Number of Processors: %d\\n\", num_procs);\n",
        "            printf(\"In Parallel: %d\\n\", in_parallel);\n",
        "            printf(\"---------------------------\\n\");\n",
        "        }\n",
        "    }\n",
        "\n",
        "    return 0;\n",
        "}\n"
      ],
      "metadata": {
        "id": "JyLGb5U-Hhmw",
        "colab": {
          "base_uri": "https://localhost:8080/"
        },
        "outputId": "bdef450b-bd17-44a2-d5d7-bc476f773fe5"
      },
      "execution_count": null,
      "outputs": [
        {
          "output_type": "stream",
          "name": "stdout",
          "text": [
            "Writing q2.c\n"
          ]
        }
      ]
    },
    {
      "cell_type": "markdown",
      "source": [
        "### 3\n",
        "Write an OpenMP program to add two arrays in parallel using dynamic clause."
      ],
      "metadata": {
        "id": "AsChjnDBIEKw"
      }
    },
    {
      "cell_type": "code",
      "source": [
        "%%writefile q3.c\n",
        "#include <stdio.h>\n",
        "#include <omp.h>\n",
        "\n",
        "#define SIZE 1000\n",
        "\n",
        "int main() {\n",
        "    int a[SIZE], b[SIZE], c[SIZE];\n",
        "\n",
        "    for (int i = 0; i < SIZE; i++) {\n",
        "        a[i] = i;\n",
        "        b[i] = SIZE - i;\n",
        "    }\n",
        "\n",
        "    #pragma omp parallel for schedule(dynamic)\n",
        "    for (int i = 0; i < SIZE; i++) {\n",
        "        c[i] = a[i] + b[i];\n",
        "    }\n",
        "\n",
        "    printf(\"First 10 elements of array C:\\n\");\n",
        "    for (int i = 0; i < 10; i++) {\n",
        "        printf(\"c[%d] = %d\\n\", i, c[i]);\n",
        "    }\n",
        "\n",
        "    return 0;\n",
        "}\n"
      ],
      "metadata": {
        "id": "n7Mvl14cH2U1"
      },
      "execution_count": null,
      "outputs": []
    },
    {
      "cell_type": "markdown",
      "source": [
        "### 4\n",
        "\n",
        "Write an OpenMP program to add and multiply two arrays with two different threads ( Work sharing)."
      ],
      "metadata": {
        "id": "FSo7WcLOILaB"
      }
    },
    {
      "cell_type": "code",
      "source": [
        "%%writefile q4.c\n",
        "\n",
        "#include <stdio.h>\n",
        "#include <omp.h>\n",
        "\n",
        "#define SIZE 1000\n",
        "\n",
        "int main() {\n",
        "    int a[SIZE], b[SIZE], sum[SIZE], product[SIZE];\n",
        "\n",
        "    for (int i = 0; i < SIZE; i++) {\n",
        "        a[i] = i;\n",
        "        b[i] = SIZE - i;\n",
        "    }\n",
        "\n",
        "    #pragma omp parallel sections\n",
        "    {\n",
        "        #pragma omp section\n",
        "        for (int i = 0; i < SIZE; i++)\n",
        "          sum[i] = a[i] + b[i];\n",
        "\n",
        "        #pragma omp section\n",
        "        for (int i = 0; i < SIZE; i++)\n",
        "          product[i] = a[i] * b[i];\n",
        "    }\n",
        "\n",
        "    printf(\"sum[0]=%d, product[0]=%d\\n\", sum[0], product[0]);\n",
        "    return 0;\n",
        "}\n"
      ],
      "metadata": {
        "id": "qF2-OfVjIMd0"
      },
      "execution_count": null,
      "outputs": []
    },
    {
      "cell_type": "code",
      "source": [
        "!gcc -fopenmp q4.c -o q4\n",
        "!./q4"
      ],
      "metadata": {
        "id": "gmj36ywygkJB"
      },
      "execution_count": null,
      "outputs": []
    },
    {
      "cell_type": "markdown",
      "source": [
        "### 5\n",
        "Write an OpenMP program to perform matrix multiplication."
      ],
      "metadata": {
        "id": "df7nBw1DIpDw"
      }
    },
    {
      "cell_type": "code",
      "source": [
        "%%writefile q5.c\n",
        "#include <stdio.h>\n",
        "#include <omp.h>\n",
        "\n",
        "#define N 3\n",
        "\n",
        "int main() {\n",
        "    int A[N][N], B[N][N], C[N][N] = {0};\n",
        "\n",
        "    // Initialize matrices A and B\n",
        "    for (int i = 0; i < N; i++) {\n",
        "        for (int j = 0; j < N; j++) {\n",
        "            A[i][j] = i + j;\n",
        "            B[i][j] = i - j;\n",
        "        }\n",
        "    }\n",
        "\n",
        "    #pragma omp parallel for collapse(2)\n",
        "    for (int i = 0; i < N; i++) {\n",
        "        for (int j = 0; j < N; j++) {\n",
        "            for (int k = 0; k < N; k++) {\n",
        "                C[i][j] += A[i][k] * B[k][j];\n",
        "            }\n",
        "        }\n",
        "    }\n",
        "\n",
        "    printf(\"C[0][0] = %d\\n\", C[0][1]);\n",
        "\n",
        "    return 0;\n",
        "}"
      ],
      "metadata": {
        "colab": {
          "base_uri": "https://localhost:8080/"
        },
        "id": "rzDorl59IqDT",
        "outputId": "c84f9e37-fcd0-44bb-9b23-e2a97d84e7c6"
      },
      "execution_count": null,
      "outputs": [
        {
          "output_type": "stream",
          "name": "stdout",
          "text": [
            "Writing q5.c\n"
          ]
        }
      ]
    },
    {
      "cell_type": "code",
      "source": [
        "!gcc -fopenmp q5.c -o q5\n",
        "!./q5"
      ],
      "metadata": {
        "colab": {
          "base_uri": "https://localhost:8080/"
        },
        "id": "JovsAkM7m-qD",
        "outputId": "6712b93a-243d-4e76-8043-e29a2174be14"
      },
      "execution_count": null,
      "outputs": [
        {
          "output_type": "stream",
          "name": "stdout",
          "text": [
            "C[0][0] = 2\n"
          ]
        }
      ]
    },
    {
      "cell_type": "markdown",
      "source": [
        "### 6\n",
        "\n",
        "Write an OpenMP program to demonstrate the first private clause."
      ],
      "metadata": {
        "id": "4fqAJ9T5I4rr"
      }
    },
    {
      "cell_type": "code",
      "source": [
        "%%writefile q6.c\n",
        "#include <stdio.h>\n",
        "#include <omp.h>\n",
        "\n",
        "int main() {\n",
        "    int x = 10; // Shared variable\n",
        "\n",
        "    printf(\"Initial value of x: %d\\n\", x);\n",
        "\n",
        "    #pragma omp parallel firstprivate(x)\n",
        "    {\n",
        "        int thread_id = omp_get_thread_num();\n",
        "        x += thread_id;\n",
        "        printf(\"Thread %d: x = %d\\n\", thread_id, x);\n",
        "    }\n",
        "\n",
        "    printf(\"Value of x after parallel region: %d\\n\", x);\n",
        "\n",
        "    return 0;\n",
        "}\n"
      ],
      "metadata": {
        "id": "qGkKcWkUIrMH",
        "colab": {
          "base_uri": "https://localhost:8080/"
        },
        "outputId": "6865c3c9-2164-428f-b525-f2c4ba5c982d"
      },
      "execution_count": null,
      "outputs": [
        {
          "output_type": "stream",
          "name": "stdout",
          "text": [
            "Writing q6.c\n"
          ]
        }
      ]
    },
    {
      "cell_type": "markdown",
      "source": [
        "### 7\n",
        "\n",
        "Write an OpenMP program to add all the numbers in a vector by demonstrating the use of the reduction clause.\n"
      ],
      "metadata": {
        "id": "hIy9ueyMI_B6"
      }
    },
    {
      "cell_type": "code",
      "source": [
        "%%writefile q7.c\n",
        "#include <stdio.h>\n",
        "#include <omp.h>\n",
        "\n",
        "#define SIZE 1000\n",
        "\n",
        "int main() {\n",
        "    int vector[SIZE];\n",
        "    int sum = 0;\n",
        "    for (int i = 0; i < SIZE; i++) {\n",
        "        vector[i] = i + 1;\n",
        "    }\n",
        "    #pragma omp parallel for reduction(+:sum)\n",
        "    for (int i = 0; i < SIZE; i++) {\n",
        "        sum += vector[i];\n",
        "    }\n",
        "\n",
        "    printf(\"Sum of vector elements: %d\\n\", sum);\n",
        "    return 0;\n",
        "}"
      ],
      "metadata": {
        "id": "ojaHvCx7JKmC"
      },
      "execution_count": null,
      "outputs": []
    },
    {
      "cell_type": "markdown",
      "source": [
        "### ***Section - B***"
      ],
      "metadata": {
        "id": "9x-fb3nEJQif"
      }
    },
    {
      "cell_type": "markdown",
      "source": [
        "### 1\n",
        "\n",
        "Write a CUDA program to add 2 numbers."
      ],
      "metadata": {
        "id": "t_n3L3p_Ju5u"
      }
    },
    {
      "cell_type": "code",
      "source": [
        "%%writefile q1.cu\n",
        "#include <stdio.h>\n",
        "\n",
        "__global__ void add(int *a, int *b, int *c) {\n",
        "    *c = *a + *b;\n",
        "}\n",
        "\n",
        "int main() {\n",
        "    int a = 5, b = 10, c;\n",
        "    int *d_a, *d_b, *d_c;\n",
        "\n",
        "    // Allocate memory on the GPU\n",
        "    cudaMalloc((void **)&d_a, sizeof(int));\n",
        "    cudaMalloc((void **)&d_b, sizeof(int));\n",
        "    cudaMalloc((void **)&d_c, sizeof(int));\n",
        "\n",
        "    // Copy inputs to GPU\n",
        "    cudaMemcpy(d_a, &a, sizeof(int), cudaMemcpyHostToDevice);\n",
        "    cudaMemcpy(d_b, &b, sizeof(int), cudaMemcpyHostToDevice);\n",
        "\n",
        "    // Launch kernel\n",
        "    add<<<1, 1>>>(d_a, d_b, d_c);\n",
        "\n",
        "    // Copy result back to host\n",
        "    cudaMemcpy(&c, d_c, sizeof(int), cudaMemcpyDeviceToHost);\n",
        "\n",
        "    printf(\"The sum of %d and %d is %d\\n\", a, b, c);\n",
        "\n",
        "    // Free GPU memory\n",
        "    cudaFree(d_a);\n",
        "    cudaFree(d_b);\n",
        "    cudaFree(d_c);\n",
        "\n",
        "    return 0;\n",
        "}"
      ],
      "metadata": {
        "id": "07D5M2b2JUhZ",
        "colab": {
          "base_uri": "https://localhost:8080/"
        },
        "outputId": "b09f42e5-916c-4e2c-d79a-cd0185810d2c"
      },
      "execution_count": null,
      "outputs": [
        {
          "output_type": "stream",
          "name": "stdout",
          "text": [
            "Overwriting q1.cu\n"
          ]
        }
      ]
    },
    {
      "cell_type": "code",
      "source": [
        "!nvcc -o q1 q1.cu\n",
        "!./q1\n"
      ],
      "metadata": {
        "colab": {
          "base_uri": "https://localhost:8080/"
        },
        "id": "KmKMEKgaBAuu",
        "outputId": "fb44c006-2c15-4d2b-fd82-cf110d1a4744"
      },
      "execution_count": null,
      "outputs": [
        {
          "output_type": "stream",
          "name": "stdout",
          "text": [
            "The sum of 5 and 10 is 15\n"
          ]
        }
      ]
    },
    {
      "cell_type": "markdown",
      "source": [
        "### 2\n",
        "\n",
        "Write a CUDA program to perform vector addition."
      ],
      "metadata": {
        "id": "NbPslIBoJyVS"
      }
    },
    {
      "cell_type": "code",
      "source": [
        "%%writefile q2.cu\n",
        "#include <stdio.h>\n",
        "\n",
        "#define N 1000\n",
        "\n",
        "__global__ void vector_add(int *a, int *b, int *c, int n) {\n",
        "    int idx = threadIdx.x + blockIdx.x * blockDim.x;\n",
        "    if (idx < n) {\n",
        "        c[idx] = a[idx] + b[idx];\n",
        "    }\n",
        "}\n",
        "\n",
        "int main() {\n",
        "    int a[N], b[N], c[N];\n",
        "    int *d_a, *d_b, *d_c;\n",
        "\n",
        "    for (int i = 0; i < N; i++) {\n",
        "        a[i] = i;\n",
        "        b[i] = N - i;\n",
        "    }\n",
        "\n",
        "    cudaMalloc((void **)&d_a, N * sizeof(int));\n",
        "    cudaMalloc((void **)&d_b, N * sizeof(int));\n",
        "    cudaMalloc((void **)&d_c, N * sizeof(int));\n",
        "\n",
        "    cudaMemcpy(d_a, a, N * sizeof(int), cudaMemcpyHostToDevice);\n",
        "    cudaMemcpy(d_b, b, N * sizeof(int), cudaMemcpyHostToDevice);\n",
        "\n",
        "    int block_size = 256;\n",
        "    int grid_size = (N + block_size - 1) / block_size;\n",
        "    vector_add<<<grid_size, block_size>>>(d_a, d_b, d_c, N);\n",
        "\n",
        "    cudaMemcpy(c, d_c, N * sizeof(int), cudaMemcpyDeviceToHost);\n",
        "\n",
        "    printf(\"First 10 elements of the result:\\n\");\n",
        "    for (int i = 0; i < 10; i++) {\n",
        "        printf(\"c[%d] = %d\\n\", i, c[i]);\n",
        "    }\n",
        "\n",
        "    cudaFree(d_a);\n",
        "    cudaFree(d_b);\n",
        "    cudaFree(d_c);\n",
        "\n",
        "    return 0;\n",
        "}\n"
      ],
      "metadata": {
        "id": "zRHE2icRJzX6",
        "colab": {
          "base_uri": "https://localhost:8080/"
        },
        "outputId": "4bf38945-fb33-4dd4-872e-c82bd0872aaa"
      },
      "execution_count": null,
      "outputs": [
        {
          "output_type": "stream",
          "name": "stdout",
          "text": [
            "Writing q2.cu\n"
          ]
        }
      ]
    },
    {
      "cell_type": "code",
      "source": [
        "!nvcc -o q2 q2.cu\n",
        "!./q2"
      ],
      "metadata": {
        "colab": {
          "base_uri": "https://localhost:8080/"
        },
        "id": "EnMryAq3Ca0W",
        "outputId": "1db949b5-378f-4d1b-9254-d8b04fac4dc7"
      },
      "execution_count": null,
      "outputs": [
        {
          "output_type": "stream",
          "name": "stdout",
          "text": [
            "First 10 elements of the result:\n",
            "c[0] = 1000\n",
            "c[1] = 1000\n",
            "c[2] = 1000\n",
            "c[3] = 1000\n",
            "c[4] = 1000\n",
            "c[5] = 1000\n",
            "c[6] = 1000\n",
            "c[7] = 1000\n",
            "c[8] = 1000\n",
            "c[9] = 1000\n"
          ]
        }
      ]
    },
    {
      "cell_type": "markdown",
      "source": [
        "### 3\n",
        "\n",
        "Write a CUDA program to perform matrix addition."
      ],
      "metadata": {
        "id": "CinEO-BGJ5TC"
      }
    },
    {
      "cell_type": "code",
      "source": [
        "%%writefile q3.cu\n",
        "#include <stdio.h>\n",
        "\n",
        "#define N 3\n",
        "\n",
        "__global__ void matrix_add(int *a, int *b, int *c, int n) {\n",
        "    int row = blockIdx.y * blockDim.y + threadIdx.y;\n",
        "    int col = blockIdx.x * blockDim.x + threadIdx.x;\n",
        "    if (row < n && col < n) {\n",
        "        int idx = row * n + col;\n",
        "        c[idx] = a[idx] + b[idx];\n",
        "    }\n",
        "}\n",
        "\n",
        "int main() {\n",
        "    int a[N][N], b[N][N], c[N][N], *d_a, *d_b, *d_c;\n",
        "    int size = N * N * sizeof(int);\n",
        "\n",
        "    for (int i = 0; i < N; i++)\n",
        "        for (int j = 0; j < N; j++) {\n",
        "            a[i][j] = i + j;\n",
        "            b[i][j] = i - j;\n",
        "        }\n",
        "    printf(\"Matrix A:\\n\");\n",
        "    for (int i = 0; i < N; i++) {\n",
        "    for (int j = 0; j < N; j++) {\n",
        "        printf(\"%d \", a[i][j]);\n",
        "    }\n",
        "    printf(\"\\n\");\n",
        "}\n",
        "printf(\"Matrix B:\\n\");\n",
        "    for (int i = 0; i < N; i++) {\n",
        "    for (int j = 0; j < N; j++) {\n",
        "        printf(\"%d \", b[i][j]);\n",
        "    }\n",
        "    printf(\"\\n\");\n",
        "}\n",
        "\n",
        "    cudaMalloc(&d_a, size);\n",
        "    cudaMalloc(&d_b, size);\n",
        "    cudaMalloc(&d_c, size);\n",
        "\n",
        "    cudaMemcpy(d_a, a, size, cudaMemcpyHostToDevice);\n",
        "    cudaMemcpy(d_b, b, size, cudaMemcpyHostToDevice);\n",
        "\n",
        "    dim3 threadsPerBlock(16, 16);\n",
        "    dim3 blocksPerGrid((N + 15) / 16, (N + 15) / 16);\n",
        "    matrix_add<<<blocksPerGrid, threadsPerBlock>>>(d_a, d_b, d_c, N);\n",
        "\n",
        "    cudaMemcpy(c, d_c, size, cudaMemcpyDeviceToHost);\n",
        "\n",
        "    printf(\"Result matrix:\\n\");\n",
        "    for (int i = 0; i < N; i++) {\n",
        "        for (int j = 0; j < N; j++) {\n",
        "            printf(\"%d \", c[i][j]);\n",
        "        }\n",
        "        printf(\"\\n\");\n",
        "    }\n",
        "\n",
        "    cudaFree(d_a);\n",
        "    cudaFree(d_b);\n",
        "    cudaFree(d_c);\n",
        "\n",
        "    return 0;\n",
        "}\n"
      ],
      "metadata": {
        "id": "WEUlC-moJ4-l",
        "colab": {
          "base_uri": "https://localhost:8080/"
        },
        "outputId": "0ed87210-0ce3-4e55-9a5d-956fb682f0b4"
      },
      "execution_count": null,
      "outputs": [
        {
          "output_type": "stream",
          "name": "stdout",
          "text": [
            "Overwriting q3.cu\n"
          ]
        }
      ]
    },
    {
      "cell_type": "code",
      "source": [
        "!nvcc -o q3 q3.cu\n",
        "!./q3"
      ],
      "metadata": {
        "colab": {
          "base_uri": "https://localhost:8080/"
        },
        "id": "8rSB2ikrMM0A",
        "outputId": "fb8baa99-d25c-43a7-804c-ab5c3e08edc5"
      },
      "execution_count": null,
      "outputs": [
        {
          "output_type": "stream",
          "name": "stdout",
          "text": [
            "Matrix A:\n",
            "0 1 2 \n",
            "1 2 3 \n",
            "2 3 4 \n",
            "Matrix B:\n",
            "0 -1 -2 \n",
            "1 0 -1 \n",
            "2 1 0 \n",
            "Result matrix:\n",
            "0 0 0 \n",
            "2 2 2 \n",
            "4 4 4 \n"
          ]
        }
      ]
    },
    {
      "cell_type": "markdown",
      "source": [
        "### 4\n",
        "\n",
        "Examiner’s choice program."
      ],
      "metadata": {
        "id": "OHEfjG74KMHt"
      }
    },
    {
      "cell_type": "code",
      "source": [
        "#let god save us\n"
      ],
      "metadata": {
        "id": "JZREA9hkKGHJ"
      },
      "execution_count": null,
      "outputs": []
    },
    {
      "cell_type": "markdown",
      "source": [
        "### 5\n",
        "\n",
        "Write a CUDA program to perform matrix multiplication."
      ],
      "metadata": {
        "id": "eoT_ZXO9KPwH"
      }
    },
    {
      "cell_type": "code",
      "source": [
        "%%writefile q5.cu\n",
        "#include <stdio.h>\n",
        "\n",
        "#define N 3\n",
        "\n",
        "__global__ void matrix_multiply(int *a, int *b, int *c, int n) {\n",
        "    int row = blockIdx.y * blockDim.y + threadIdx.y;\n",
        "    int col = blockIdx.x * blockDim.x + threadIdx.x;\n",
        "    if (row < n && col < n) {\n",
        "        int sum = 0;\n",
        "        for (int k = 0; k < n; k++) {\n",
        "            sum += a[row * n + k] * b[k * n + col];\n",
        "        }\n",
        "        c[row * n + col] = sum;\n",
        "    }\n",
        "}\n",
        "\n",
        "int main() {\n",
        "    int a[N][N], b[N][N], c[N][N], *d_a, *d_b, *d_c;\n",
        "    int size = N * N * sizeof(int);\n",
        "\n",
        "    for (int i = 0; i < N; i++)\n",
        "        for (int j = 0; j < N; j++) {\n",
        "            a[i][j] = i + j;\n",
        "            b[i][j] = i - j;\n",
        "        }\n",
        "\n",
        "    cudaMalloc(&d_a, size);\n",
        "    cudaMalloc(&d_b, size);\n",
        "    cudaMalloc(&d_c, size);\n",
        "\n",
        "    cudaMemcpy(d_a, a, size, cudaMemcpyHostToDevice);\n",
        "    cudaMemcpy(d_b, b, size, cudaMemcpyHostToDevice);\n",
        "\n",
        "    dim3 threadsPerBlock(16, 16);\n",
        "    dim3 blocksPerGrid((N + 15) / 16, (N + 15) / 16);\n",
        "    matrix_multiply<<<blocksPerGrid, threadsPerBlock>>>(d_a, d_b, d_c, N);\n",
        "\n",
        "    cudaMemcpy(c, d_c, size, cudaMemcpyDeviceToHost);\n",
        "\n",
        "    printf(\"Result matrix:\\n\");\n",
        "    for (int i = 0; i < N; i++) {\n",
        "        for (int j = 0; j < N; j++) {\n",
        "            printf(\"%d \", c[i][j]);\n",
        "        }\n",
        "        printf(\"\\n\");\n",
        "    }\n",
        "\n",
        "    cudaFree(d_a);\n",
        "    cudaFree(d_b);\n",
        "    cudaFree(d_c);\n",
        "\n",
        "    return 0;\n",
        "}\n"
      ],
      "metadata": {
        "id": "43k4rDswKRE_",
        "colab": {
          "base_uri": "https://localhost:8080/"
        },
        "outputId": "b8db2bb9-b358-4128-96c2-543059f5a4ca"
      },
      "execution_count": null,
      "outputs": [
        {
          "output_type": "stream",
          "name": "stdout",
          "text": [
            "Writing q5.cu\n"
          ]
        }
      ]
    },
    {
      "cell_type": "code",
      "source": [
        "!nvcc -o q5 q5.cu\n",
        "!./q5"
      ],
      "metadata": {
        "colab": {
          "base_uri": "https://localhost:8080/"
        },
        "id": "cIO9mH0JMey4",
        "outputId": "1c71e98f-cc63-404b-efae-0ccde668d148"
      },
      "execution_count": null,
      "outputs": [
        {
          "output_type": "stream",
          "name": "stdout",
          "text": [
            "Result matrix:\n",
            "5 2 -1 \n",
            "8 2 -4 \n",
            "11 2 -7 \n"
          ]
        }
      ]
    },
    {
      "cell_type": "markdown",
      "source": [
        "### 6\n",
        "\n",
        "Write a CUDA program to perform following operations:\n",
        "- Take 2 matrices A, B\n",
        "- Find the transpose TA, TB\n",
        "- Perform C = A*B, TC = TA*TB\n",
        "- V erify whether C and TC are equal or not.\n"
      ],
      "metadata": {
        "id": "EUHQ29LrKhN-"
      }
    },
    {
      "cell_type": "code",
      "source": [
        "%%writefile q6.cu\n",
        "\n",
        "#include <stdio.h>\n",
        "\n",
        "#define N 10\n",
        "\n",
        "__global__ void matrix_multiply(int *a, int *b, int *c, int n) {\n",
        "    int row = blockIdx.y * blockDim.y + threadIdx.y;\n",
        "    int col = blockIdx.x * blockDim.x + threadIdx.x;\n",
        "    if (row < n && col < n) {\n",
        "        int sum = 0;\n",
        "        for (int k = 0; k < n; k++) {\n",
        "            sum += a[row * n + k] * b[k * n + col];\n",
        "        }\n",
        "        c[row * n + col] = sum;\n",
        "    }\n",
        "}\n",
        "\n",
        "__global__ void matrix_transpose(int *input, int *output, int n) {\n",
        "    int row = blockIdx.y * blockDim.y + threadIdx.y;\n",
        "    int col = blockIdx.x * blockDim.x + threadIdx.x;\n",
        "    if (row < n && col < n) {\n",
        "        output[col * n + row] = input[row * n + col];\n",
        "    }\n",
        "}\n",
        "\n",
        "__global__ void matrix_compare(int *a, int *b, int *result, int n) {\n",
        "    int idx = blockIdx.x * blockDim.x + threadIdx.x;\n",
        "    if (idx < n * n && a[idx] != b[idx]) {\n",
        "        *result = 0;\n",
        "    }\n",
        "}\n",
        "\n",
        "int main() {\n",
        "    int a[N][N], b[N][N], c[N][N], ta[N][N], tb[N][N], tc[N][N];\n",
        "    int *d_a, *d_b, *d_c, *d_ta, *d_tb, *d_tc;\n",
        "    int size = N * N * sizeof(int);\n",
        "    int result = 1, *d_result;\n",
        "\n",
        "    for (int i = 0; i < N; i++)\n",
        "        for (int j = 0; j < N; j++) {\n",
        "            a[i][j] = i + 1;\n",
        "            b[i][j] = j + 1;\n",
        "        }\n",
        "\n",
        "    cudaMalloc(&d_a, size);\n",
        "    cudaMalloc(&d_b, size);\n",
        "    cudaMalloc(&d_c, size);\n",
        "    cudaMalloc(&d_ta, size);\n",
        "    cudaMalloc(&d_tb, size);\n",
        "    cudaMalloc(&d_tc, size);\n",
        "    cudaMalloc(&d_result, sizeof(int));\n",
        "\n",
        "    cudaMemcpy(d_a, a, size, cudaMemcpyHostToDevice);\n",
        "    cudaMemcpy(d_b, b, size, cudaMemcpyHostToDevice);\n",
        "    cudaMemcpy(d_result, &result, sizeof(int), cudaMemcpyHostToDevice);\n",
        "\n",
        "    dim3 threadsPerBlock(16, 16);\n",
        "    dim3 blocksPerGrid((N + 15) / 16, (N + 15) / 16);\n",
        "\n",
        "    // Transpose A and B\n",
        "    matrix_transpose<<<blocksPerGrid, threadsPerBlock>>>(d_a, d_ta, N);\n",
        "    matrix_transpose<<<blocksPerGrid, threadsPerBlock>>>(d_b, d_tb, N);\n",
        "\n",
        "    // C = A * B\n",
        "    matrix_multiply<<<blocksPerGrid, threadsPerBlock>>>(d_a, d_b, d_c, N);\n",
        "\n",
        "    // TC = TA * TB\n",
        "    matrix_multiply<<<blocksPerGrid, threadsPerBlock>>>(d_ta, d_tb, d_tc, N);\n",
        "\n",
        "    // Compare C and TC\n",
        "    matrix_compare<<<(N * N + 255) / 256, 256>>>(d_c, d_tc, d_result, N);\n",
        "\n",
        "    cudaMemcpy(c, d_c, size, cudaMemcpyDeviceToHost);\n",
        "    cudaMemcpy(tc, d_tc, size, cudaMemcpyDeviceToHost);\n",
        "    cudaMemcpy(&result, d_result, sizeof(int), cudaMemcpyDeviceToHost);\n",
        "\n",
        "    printf(\"Matrix C:\\n\");\n",
        "    for (int i = 0; i < N; i++) {\n",
        "        for (int j = 0; j < N; j++) {\n",
        "            printf(\"%d \", c[i][j]);\n",
        "        }\n",
        "        printf(\"\\n\");\n",
        "    }\n",
        "\n",
        "    printf(\"Matrix TC:\\n\");\n",
        "    for (int i = 0; i < N; i++) {\n",
        "        for (int j = 0; j < N; j++) {\n",
        "            printf(\"%d \", tc[i][j]);\n",
        "        }\n",
        "        printf(\"\\n\");\n",
        "    }\n",
        "\n",
        "    printf(\"C and TC are %sequal.\\n\", result ? \"\" : \"not \");\n",
        "\n",
        "    cudaFree(d_a);\n",
        "    cudaFree(d_b);\n",
        "    cudaFree(d_c);\n",
        "    cudaFree(d_ta);\n",
        "    cudaFree(d_tb);\n",
        "    cudaFree(d_tc);\n",
        "    cudaFree(d_result);\n",
        "\n",
        "    return 0;\n",
        "}\n"
      ],
      "metadata": {
        "id": "uAw7fPQ3K-m9",
        "colab": {
          "base_uri": "https://localhost:8080/"
        },
        "outputId": "03d5b3b1-11d7-4b00-af45-2410b5e9ad0e"
      },
      "execution_count": null,
      "outputs": [
        {
          "output_type": "stream",
          "name": "stdout",
          "text": [
            "Writing q6.cu\n"
          ]
        }
      ]
    },
    {
      "cell_type": "code",
      "source": [
        "!nvcc -o q6 q6.cu\n",
        "!./q6"
      ],
      "metadata": {
        "colab": {
          "base_uri": "https://localhost:8080/"
        },
        "id": "1ByoAy9RMtEX",
        "outputId": "1f2cb8df-6713-42b6-c0b8-2c3ce36928bb"
      },
      "execution_count": null,
      "outputs": [
        {
          "output_type": "stream",
          "name": "stdout",
          "text": [
            "\u001b[01m\u001b[0m\u001b[01mq6.cu(34)\u001b[0m: \u001b[01;35mwarning\u001b[0m #177-D: variable \u001b[01m\"ta\"\u001b[0m was declared but never referenced\n",
            "      int a[10][10], b[10][10], c[10][10], ta[10][10], tb[10][10], tc[10][10];\n",
            "                                           ^\n",
            "\n",
            "\u001b[01;36m\u001b[0m\u001b[01;36mRemark\u001b[0m: The warnings can be suppressed with \"-diag-suppress <warning-number>\"\n",
            "\n",
            "\u001b[01m\u001b[0m\u001b[01mq6.cu(34)\u001b[0m: \u001b[01;35mwarning\u001b[0m #177-D: variable \u001b[01m\"tb\"\u001b[0m was declared but never referenced\n",
            "      int a[10][10], b[10][10], c[10][10], ta[10][10], tb[10][10], tc[10][10];\n",
            "                                                       ^\n",
            "\n",
            "Matrix C:\n",
            "10 20 30 40 50 60 70 80 90 100 \n",
            "20 40 60 80 100 120 140 160 180 200 \n",
            "30 60 90 120 150 180 210 240 270 300 \n",
            "40 80 120 160 200 240 280 320 360 400 \n",
            "50 100 150 200 250 300 350 400 450 500 \n",
            "60 120 180 240 300 360 420 480 540 600 \n",
            "70 140 210 280 350 420 490 560 630 700 \n",
            "80 160 240 320 400 480 560 640 720 800 \n",
            "90 180 270 360 450 540 630 720 810 900 \n",
            "100 200 300 400 500 600 700 800 900 1000 \n",
            "Matrix TC:\n",
            "385 385 385 385 385 385 385 385 385 385 \n",
            "385 385 385 385 385 385 385 385 385 385 \n",
            "385 385 385 385 385 385 385 385 385 385 \n",
            "385 385 385 385 385 385 385 385 385 385 \n",
            "385 385 385 385 385 385 385 385 385 385 \n",
            "385 385 385 385 385 385 385 385 385 385 \n",
            "385 385 385 385 385 385 385 385 385 385 \n",
            "385 385 385 385 385 385 385 385 385 385 \n",
            "385 385 385 385 385 385 385 385 385 385 \n",
            "385 385 385 385 385 385 385 385 385 385 \n",
            "C and TC are not equal.\n"
          ]
        }
      ]
    },
    {
      "cell_type": "markdown",
      "source": [
        "### 7\n",
        "\n",
        "Write a CUDA program to perform dot product on two vectors."
      ],
      "metadata": {
        "id": "n0rIJ4DWL3eb"
      }
    },
    {
      "cell_type": "code",
      "source": [
        "%%writefile q7.cu\n",
        "\n",
        "#include <stdio.h>\n",
        "\n",
        "#define N 1000\n",
        "\n",
        "__global__ void vector_dot_product(int *a, int *b, int *result) {\n",
        "    __shared__ int temp[1024];\n",
        "    int idx = threadIdx.x + blockIdx.x * blockDim.x;\n",
        "    int thread_id = threadIdx.x;\n",
        "    temp[thread_id] = (idx < N) ? a[idx] * b[idx] : 0;\n",
        "    __syncthreads();\n",
        "\n",
        "    if (thread_id == 0) {\n",
        "        int sum = 0;\n",
        "        for (int i = 0; i < blockDim.x; i++) sum += temp[i];\n",
        "        atomicAdd(result, sum);\n",
        "    }\n",
        "}\n",
        "\n",
        "int main() {\n",
        "    int a[N], b[N], result = 0;\n",
        "    int *d_a, *d_b, *d_result;\n",
        "\n",
        "    for (int i = 0; i < N; i++) {\n",
        "        a[i] = i + 1;\n",
        "        b[i] = N - i;\n",
        "    }\n",
        "\n",
        "    cudaMalloc(&d_a, N * sizeof(int));\n",
        "    cudaMalloc(&d_b, N * sizeof(int));\n",
        "    cudaMalloc(&d_result, sizeof(int));\n",
        "    cudaMemcpy(d_a, a, N * sizeof(int), cudaMemcpyHostToDevice);\n",
        "    cudaMemcpy(d_b, b, N * sizeof(int), cudaMemcpyHostToDevice);\n",
        "    cudaMemcpy(d_result, &result, sizeof(int), cudaMemcpyHostToDevice);\n",
        "\n",
        "    int threadsPerBlock = 256;\n",
        "    int blocksPerGrid = (N + threadsPerBlock - 1) / threadsPerBlock;\n",
        "    vector_dot_product<<<blocksPerGrid, threadsPerBlock>>>(d_a, d_b, d_result);\n",
        "    cudaMemcpy(&result, d_result, sizeof(int), cudaMemcpyDeviceToHost);\n",
        "\n",
        "    printf(\"Dot product: %d\\n\", result);\n",
        "    cudaFree(d_a); cudaFree(d_b); cudaFree(d_result);\n",
        "    return 0;\n",
        "}\n"
      ],
      "metadata": {
        "id": "DSKPcwrwL5j1",
        "colab": {
          "base_uri": "https://localhost:8080/"
        },
        "outputId": "0ed4420f-0d9d-4bfa-fd18-6084503b0225"
      },
      "execution_count": null,
      "outputs": [
        {
          "output_type": "stream",
          "name": "stdout",
          "text": [
            "Overwriting q7.cu\n"
          ]
        }
      ]
    },
    {
      "cell_type": "code",
      "source": [
        "!nvcc -o q7 q7.cu\n",
        "!./q7"
      ],
      "metadata": {
        "colab": {
          "base_uri": "https://localhost:8080/"
        },
        "id": "RCLsDRsRNiDI",
        "outputId": "30cb3c4b-3b1c-4b20-c211-22874a23a063"
      },
      "execution_count": null,
      "outputs": [
        {
          "output_type": "stream",
          "name": "stdout",
          "text": [
            "Dot product: 167167000\n"
          ]
        }
      ]
    },
    {
      "cell_type": "code",
      "source": [],
      "metadata": {
        "id": "WPj5Q9jrdpsq"
      },
      "execution_count": null,
      "outputs": []
    }
  ]
}